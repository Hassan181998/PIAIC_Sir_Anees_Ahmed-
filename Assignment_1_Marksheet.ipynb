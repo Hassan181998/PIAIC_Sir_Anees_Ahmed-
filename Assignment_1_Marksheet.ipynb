{
 "cells": [
  {
   "cell_type": "code",
   "execution_count": 28,
   "metadata": {},
   "outputs": [
    {
     "name": "stdout",
     "output_type": "stream",
     "text": [
      "Enter your Math score: 87\n",
      "Enter your Chemistry score: 88\n",
      "Enter your Physics score: 89\n",
      "Enter your english score: 90\n",
      "Enter your Pakistan Studies score:78\n",
      "\t\t\t\t\t\tMARKSHEET FOR SPRING SEMESTER\n",
      "Board:\tO level\n",
      "Name:\tNabeel Ahmed\n",
      "Father Name:\tGhulam Abbas Moolji\n",
      "Roll Number:\t18024\n",
      "Passing Year:\t2022\n",
      "*\t\t======================================================================\n",
      "*\t\tSubject\t\t\tTotal Marks\tMarks Obtained\tGrade\n",
      "*\t\t======================================================================\n",
      "* \t\tMathematics\t\t 100 \t\t 87 \t\t B\n",
      "* \t\tPyhysics\t\t 100 \t\t 89 \t\t B\n",
      "* \t\tChemistry\t\t 100 \t\t 88 \t\t B\n",
      "* \t\tEnglish\t\t\t 100 \t\t 90 \t\t A+\n",
      "* \t\tPakistan Studies\t 100 \t\t 78 \t\t C\n",
      "*\t\t======================================================================*\n",
      "\n",
      "\n",
      "\n",
      "\n",
      "\n",
      "\t\tObtained Marks:\t 432 \n",
      "\t\tTotal Marks:\t 400\n",
      "\t\tPercentage:\t 86.4\n",
      "\t\tOverall Grade:\t A+\n"
     ]
    }
   ],
   "source": [
    "#Taking Marks from individaul Student of 5 subjects\n",
    "math_score = int(input(\"Enter your Math score: \"))\n",
    "chem_score = int(input(\"Enter your Chemistry score: \"))\n",
    "phy_score = int((input(\"Enter your Physics score: \")))\n",
    "eng_score = int(input(\"Enter your english score: \"))\n",
    "pst_score = int(input(\"Enter your Pakistan Studies score:\" ))\n",
    "total_score = math_score + chem_score + phy_score + eng_score + pst_score\n",
    "total_marks = 100\n",
    "overall_percentage = (total_score /500)*100\n",
    "\n",
    "#Inputting student details of student related to their studies\n",
    "print(\"\\t\\t\\t\\t\\t\\tMARKSHEET FOR SPRING SEMESTER\")   \n",
    "board_name = input(\"Board:\\t\")\n",
    "stdnt_name = input(\"Name:\\t\")\n",
    "father_name = input(\"Father Name:\\t\")\n",
    "roll_no = input(\"Roll Number:\\t\")\n",
    "pass_year = input(\"Passing Year:\\t\")\n",
    "\n",
    "\n",
    "#grading method or criteria\n",
    "def grading(subject_score):\n",
    "    if subject_score >=90:\n",
    "           return \"A+\"\n",
    "    elif subject_score >= 80 and subject_score < 90:\n",
    "         return \"B\"\n",
    "    elif subject_score >= 70 and subject_score < 80:\n",
    "        return \"C\"\n",
    "    elif subject_score >= 60 and subject_score < 70:\n",
    "        return \"D\"\n",
    "    else:\n",
    "        return \"Ungraded.\"\n",
    "    \n",
    "#formatting in form of marksheet\n",
    "print('*\\t\\t======================================================================\\n*\\t\\tSubject\\t\\t\\tTotal Marks\\tMarks Obtained\\tGrade')\n",
    "print(\"*\\t\\t======================================================================\")\n",
    "print(\"* \\t\\tMathematics\\t\\t\",total_marks,\"\\t\\t\",math_score,\"\\t\\t\",grading(math_score))\n",
    "print(\"* \\t\\tPyhysics\\t\\t\",total_marks,\"\\t\\t\",phy_score,\"\\t\\t\",grading(phy_score))\n",
    "print(\"* \\t\\tChemistry\\t\\t\",total_marks,\"\\t\\t\",chem_score,\"\\t\\t\",grading(chem_score))\n",
    "print(\"* \\t\\tEnglish\\t\\t\\t\",total_marks,\"\\t\\t\",eng_score,\"\\t\\t\",grading(eng_score))\n",
    "print(\"* \\t\\tPakistan Studies\\t\",total_marks,\"\\t\\t\",pst_score,\"\\t\\t\",grading(pst_score))\n",
    "print(\"*\\t\\t======================================================================*\")\n",
    "print(\"\\n\\n\\n\\n\")\n",
    "print(\"\\t\\tObtained Marks:\\t\", total_score,\"\\n\\t\\tTotal Marks:\\t\", (total_marks*5))\n",
    "print(\"\\t\\tPercentage:\\t\",overall_percentage)\n",
    "print(\"\\t\\tOverall Grade:\\t\", grading(total_score))\n"
   ]
  },
  {
   "cell_type": "code",
   "execution_count": null,
   "metadata": {},
   "outputs": [],
   "source": []
  }
 ],
 "metadata": {
  "kernelspec": {
   "display_name": "Python 3",
   "language": "python",
   "name": "python3"
  }
 },
 "nbformat": 4,
 "nbformat_minor": 2
}
