{
 "cells": [
  {
   "cell_type": "markdown",
   "metadata": {},
   "source": [
    "# Parsing Text File  "
   ]
  },
  {
   "cell_type": "code",
   "execution_count": 45,
   "metadata": {},
   "outputs": [
    {
     "name": "stdout",
     "output_type": "stream",
     "text": [
      "Enter text file for parsing : sample_text_file.txt4\n",
      " Line count: 4821\n",
      " Word count: 38128\n",
      " Character count: 78009\n",
      " Spaces count: 78009\n",
      " Tabs count: 38218\n",
      " Paragraph Count: 4820\n",
      " \n"
     ]
    }
   ],
   "source": [
    "def parsing_text_file(inF):\n",
    "\n",
    "    num_lines = 0\n",
    "    num_words = 0\n",
    "    num_chars = 0\n",
    "    num_spaces= 0\n",
    "    num_tabs  = 0\n",
    "    num_paras = -1\n",
    "\n",
    "    with open(inF, 'r',encoding=\"utf8\") as input_file:\n",
    "        for line in input_file:\n",
    "            num_lines += 1\n",
    "            if \"\\n\" in line:\n",
    "                num_paras+=1\n",
    "            line_words = line.split()\n",
    "            num_words += len(line_words)\n",
    "\n",
    "            for word in line_words:\n",
    "                num_chars += len(word)\n",
    "                num_tabs += len(line.split('\\t'))\n",
    "\n",
    "                for letter in word:\n",
    "                     if(word.isspace):\n",
    "                        num_spaces +=1\n",
    "                    \n",
    "\n",
    "    print  (' Line count: %s\\n Word count: %s\\n Character count: %s\\n Spaces count: %s\\n Tabs count: %s\\n Paragraph Count: %s\\n ' % (num_lines, num_words, num_chars,num_spaces,num_tabs,num_paras))\n",
    "    \n",
    "    \n",
    "file_name = input(\"Enter text file for parsing : \")  \n",
    "parsing_text_file(file_name)\n",
    "# parsing_text_file(\"sample_text_file.txt4\")\n"
   ]
  },
  {
   "cell_type": "code",
   "execution_count": null,
   "metadata": {},
   "outputs": [],
   "source": []
  },
  {
   "cell_type": "markdown",
   "metadata": {},
   "source": [
    "#  Counting HTML Tags from html file"
   ]
  },
  {
   "cell_type": "code",
   "execution_count": 28,
   "metadata": {},
   "outputs": [
    {
     "name": "stdout",
     "output_type": "stream",
     "text": [
      "Enter name of html which you want to parse : example_html_file.html\n"
     ]
    },
    {
     "data": {
      "text/plain": [
       "Counter({'html': 1,\n",
       "         'head': 1,\n",
       "         'title': 1,\n",
       "         'style': 1,\n",
       "         'body': 1,\n",
       "         'h1': 1,\n",
       "         'p': 3,\n",
       "         'a': 1})"
      ]
     },
     "execution_count": 28,
     "metadata": {},
     "output_type": "execute_result"
    }
   ],
   "source": [
    "from bs4 import BeautifulSoup\n",
    "from collections import Counter\n",
    "def extracting_html_tags(filename):\n",
    "    tags =[]\n",
    "    with open(filename, \"r\") as f:\n",
    "    \n",
    "        contents = f.read()\n",
    "\n",
    "        soup = BeautifulSoup(contents, 'lxml')\n",
    "            \n",
    "        for child in soup.recursiveChildGenerator():\n",
    "        \n",
    "            if child.name:\n",
    "            \n",
    "                tags.append(child.name)\n",
    "        res = Counter(tags)   \n",
    "        return res\n",
    "\n",
    "    \n",
    "file_name = input (\"Enter name of html which you want to parse : \") \n",
    "extracting_html_tags(file_name)"
   ]
  },
  {
   "cell_type": "code",
   "execution_count": null,
   "metadata": {},
   "outputs": [],
   "source": [
    "\n",
    "    "
   ]
  }
 ],
 "metadata": {
  "kernelspec": {
   "display_name": "Python 3",
   "language": "python",
   "name": "python3"
  },
  "language_info": {
   "codemirror_mode": {
    "name": "ipython",
    "version": 3
   },
   "file_extension": ".py",
   "mimetype": "text/x-python",
   "name": "python",
   "nbconvert_exporter": "python",
   "pygments_lexer": "ipython3",
   "version": "3.7.3"
  }
 },
 "nbformat": 4,
 "nbformat_minor": 2
}
